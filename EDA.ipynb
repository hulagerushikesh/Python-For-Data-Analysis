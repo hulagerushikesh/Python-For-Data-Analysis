{
 "cells": [
  {
   "cell_type": "code",
   "execution_count": 1,
   "id": "95c2f6f8",
   "metadata": {},
   "outputs": [],
   "source": [
    "# Steps for feature engg :\n",
    "# Is simply a guid for what to do with the raw data \n",
    "\n",
    "# Step 1 ---> EDA : Raw data ----> Useful data\n",
    "# --> Look for the numerical and categorical features. \n",
    "# --> Check for the missing values. (Visualize all the graphs)\n",
    "# --> Outliers (Box Plot).\n",
    "# --> Data Cleaning.\n",
    "\n",
    "# Step 2 ---> Handeling the missing values : \n",
    "\n",
    "# Step 3 ---> Handeling imbalanced dataset :\n",
    "\n",
    "# Step 4 ---> Treating the outliers :\n",
    "\n",
    "# Step 5 ---> Scale the data ( Standedization , normalization) :\n",
    "\n",
    "# Step 6 ---> Converting catagorical features into numerical features :"
   ]
  },
  {
   "cell_type": "code",
   "execution_count": null,
   "id": "c3b59f79",
   "metadata": {},
   "outputs": [],
   "source": []
  }
 ],
 "metadata": {
  "kernelspec": {
   "display_name": "Python 3",
   "language": "python",
   "name": "python3"
  },
  "language_info": {
   "codemirror_mode": {
    "name": "ipython",
    "version": 3
   },
   "file_extension": ".py",
   "mimetype": "text/x-python",
   "name": "python",
   "nbconvert_exporter": "python",
   "pygments_lexer": "ipython3",
   "version": "3.8.8"
  }
 },
 "nbformat": 4,
 "nbformat_minor": 5
}
