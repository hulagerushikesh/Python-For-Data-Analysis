{
 "cells": [
  {
   "cell_type": "code",
   "execution_count": 18,
   "id": "4c1b3296",
   "metadata": {},
   "outputs": [
    {
     "name": "stdout",
     "output_type": "stream",
     "text": [
      "       pickup_year  pickup_month  pickup_day  pickup_dayofweek  pickup_time  \\\n",
      "0             2016             1           1                 5            0   \n",
      "1             2016             1           1                 5            0   \n",
      "2             2016             1           1                 5            0   \n",
      "3             2016             1           1                 5            0   \n",
      "4             2016             1           1                 5            0   \n",
      "...            ...           ...         ...               ...          ...   \n",
      "89555         2016             6          30                 4            5   \n",
      "89556         2016             6          30                 4            5   \n",
      "89557         2016             6          30                 4            5   \n",
      "89558         2016             6          30                 4            5   \n",
      "89559         2016             6          30                 4            5   \n",
      "\n",
      "       pickup_location_code  dropoff_location_code  trip_distance  \\\n",
      "0                         2                      4          21.00   \n",
      "1                         2                      1          16.29   \n",
      "2                         2                      6          12.70   \n",
      "3                         2                      6           8.70   \n",
      "4                         2                      6           5.56   \n",
      "...                     ...                    ...            ...   \n",
      "89555                     3                      4           9.50   \n",
      "89556                     2                      4          19.80   \n",
      "89557                     2                      4          17.48   \n",
      "89558                     2                      6          12.76   \n",
      "89559                     2                      0          17.54   \n",
      "\n",
      "       trip_length  fare_amount  fees_amount  tolls_amount  tip_amount  \\\n",
      "0             2037         52.0          0.8          5.54       11.65   \n",
      "1             1520         45.0          1.3          0.00        8.00   \n",
      "2             1462         36.5          1.3          0.00        0.00   \n",
      "3             1210         26.0          1.3          0.00        5.46   \n",
      "4              759         17.5          1.3          0.00        0.00   \n",
      "...            ...          ...          ...           ...         ...   \n",
      "89555         1989         31.0          1.3          5.54        3.00   \n",
      "89556         2368         52.0          0.8          5.54        0.00   \n",
      "89557         2822         52.0          0.8          5.54        5.00   \n",
      "89558         1083         34.5          1.3          0.00        8.95   \n",
      "89559         1711         48.0          1.3          5.54        0.00   \n",
      "\n",
      "       total_amount  payment_type  \n",
      "0             69.99             1  \n",
      "1             54.30             1  \n",
      "2             37.80             2  \n",
      "3             32.76             1  \n",
      "4             18.80             2  \n",
      "...             ...           ...  \n",
      "89555         40.84             1  \n",
      "89556         58.34             1  \n",
      "89557         63.34             1  \n",
      "89558         44.75             1  \n",
      "89559         54.84             2  \n",
      "\n",
      "[89560 rows x 15 columns]\n"
     ]
    }
   ],
   "source": [
    "#                    Numpy Data Analyzation project (Basics with numpy)\n",
    "\n",
    "# ---> In this basic project we are going to deal with a data set (taxis data) , lets answer some questions with the help\n",
    "#      of numpy\n",
    "\n",
    "# this will give you a vision for 'how to deal with rthe datasets'\n",
    "\n",
    "# We are going to analyse a cab drive to an dfrom the airport of new york city\n",
    "# having a dataset of taxis including fees , pick-up time , location and many more\n",
    "\n",
    "# importing necessory python modules\n",
    "import numpy as np\n",
    "import pandas as pd\n",
    "# importing taxis dataset\n",
    "#taxi_data = np.genfromtxt('taxi_data.csv',delimiter=',', skip_header=True)\n",
    "\n",
    "Load_taxi_data = pd.read_csv('taxi_data.csv')\n",
    "print(Load_taxi_data)\n",
    "print()"
   ]
  },
  {
   "cell_type": "code",
   "execution_count": 25,
   "id": "855990ed",
   "metadata": {},
   "outputs": [
    {
     "name": "stdout",
     "output_type": "stream",
     "text": [
      "the mean speed for all the cabs : 32.24258580925637\n"
     ]
    }
   ],
   "source": [
    "# Q1)   we have to calculate mean speed for all the cabs:\n",
    "# ------->\n",
    "# as we don't have any col for speed but we have trip_distance and trip_length --> speed = distance / time\n",
    "# we have trip_length in seconds so convert it to hrs \n",
    "speed = Load_taxi_data['trip_distance'] / (Load_taxi_data['trip_length']/3600)  # speed will be in miles per hrs\n",
    "speed.head()\n",
    "\n",
    "# now for mean speed\n",
    "mean_speed = speed.mean()\n",
    "print('the mean speed for all the cabs :', mean_speed)"
   ]
  },
  {
   "cell_type": "code",
   "execution_count": 51,
   "id": "870de607",
   "metadata": {},
   "outputs": [
    {
     "name": "stdout",
     "output_type": "stream",
     "text": [
      "Total rides in March : 15547\n"
     ]
    }
   ],
   "source": [
    "# Q2) Calculate the no. of rides teken in month March which is denoted 3 in the pickup_month col\n",
    "# ------>\n",
    "\n",
    "# for this we are going to extract the values for the march(3) and take a count of it\n",
    "# so in order to extract to this we are going to use \"boolean algebra\" for the required rows \n",
    "# now take the month col\n",
    "\n",
    "taxi_data = np.genfromtxt('taxi_data.csv',delimiter=',', skip_header=True)\n",
    "taxi_data\n",
    "March_rides = taxi_data[taxi_data[:,1] == 3 , 1]\n",
    "print('Total rides in March :', March_rides.shape[0])\n"
   ]
  },
  {
   "cell_type": "code",
   "execution_count": 57,
   "id": "49897466",
   "metadata": {},
   "outputs": [
    {
     "name": "stdout",
     "output_type": "stream",
     "text": [
      "No. of ride amount greater than 50 : 16\n"
     ]
    }
   ],
   "source": [
    "# Q3) Calculate no. of rides with total_amount greater than 50\n",
    "# ----> Same as above we are going to use \"boolean algebra\"\n",
    "# 3rd from last col is for total_amount so select it 1st\n",
    "print('No. of ride amount greater than 50 :' , taxi_data[taxi_data[:, -3] > 50 , -3].shape[0] )\n",
    "\n"
   ]
  },
  {
   "cell_type": "code",
   "execution_count": 58,
   "id": "d6ee9e62",
   "metadata": {},
   "outputs": [
    {
     "name": "stdout",
     "output_type": "stream",
     "text": [
      "No. of ride from JFK airport : 11832\n"
     ]
    }
   ],
   "source": [
    "# Q4) Calculate the no. of rides where drop was JFK airport\n",
    "# -----> \n",
    "# as we don't have any col for airport name but we have dropoff_location_code for the airports\n",
    "# now for JFK the code is 2 and the dropoff_location_code is 7 th col \n",
    "print('No. of ride from JFK airport :' , taxi_data[taxi_data[:, 6] == 2 , 6].shape[0] )\n"
   ]
  },
  {
   "cell_type": "code",
   "execution_count": null,
   "id": "1a6ea2b6",
   "metadata": {},
   "outputs": [],
   "source": [
    "# and as above you can question your dataset according to your tasks or aim\n",
    "# this is helpful like we answering the perticular question with that we can analyse  the dataset more clearly and also\n",
    "# in different formats for tasks."
   ]
  }
 ],
 "metadata": {
  "kernelspec": {
   "display_name": "Python 3",
   "language": "python",
   "name": "python3"
  },
  "language_info": {
   "codemirror_mode": {
    "name": "ipython",
    "version": 3
   },
   "file_extension": ".py",
   "mimetype": "text/x-python",
   "name": "python",
   "nbconvert_exporter": "python",
   "pygments_lexer": "ipython3",
   "version": "3.8.8"
  }
 },
 "nbformat": 4,
 "nbformat_minor": 5
}
